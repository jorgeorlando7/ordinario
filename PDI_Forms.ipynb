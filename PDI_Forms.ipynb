{
  "nbformat": 4,
  "nbformat_minor": 0,
  "metadata": {
    "colab": {
      "provenance": [],
      "authorship_tag": "ABX9TyPcJ8mI/C5CyStns9I7JUJI",
      "include_colab_link": true
    },
    "kernelspec": {
      "name": "python3",
      "display_name": "Python 3"
    },
    "language_info": {
      "name": "python"
    }
  },
  "cells": [
    {
      "cell_type": "markdown",
      "metadata": {
        "id": "view-in-github",
        "colab_type": "text"
      },
      "source": [
        "<a href=\"https://colab.research.google.com/github/jorgeorlando7/ordinario/blob/master/PDI_Forms.ipynb\" target=\"_parent\"><img src=\"https://colab.research.google.com/assets/colab-badge.svg\" alt=\"Open In Colab\"/></a>"
      ]
    },
    {
      "cell_type": "code",
      "execution_count": 3,
      "metadata": {
        "colab": {
          "base_uri": "https://localhost:8080/",
          "height": 682
        },
        "id": "3s9QlyY1YM-0",
        "outputId": "4d066932-b915-4c5a-e4bf-45224356e20b"
      },
      "outputs": [
        {
          "output_type": "error",
          "ename": "AttributeError",
          "evalue": "ignored",
          "traceback": [
            "\u001b[0;31m---------------------------------------------------------------------------\u001b[0m",
            "\u001b[0;31mAttributeError\u001b[0m                            Traceback (most recent call last)",
            "\u001b[0;32m<ipython-input-3-5d526ce86deb>\u001b[0m in \u001b[0;36m<cell line: 10>\u001b[0;34m()\u001b[0m\n\u001b[1;32m      8\u001b[0m \u001b[0mimg2\u001b[0m \u001b[0;34m=\u001b[0m \u001b[0mcv2\u001b[0m\u001b[0;34m.\u001b[0m\u001b[0mimread\u001b[0m\u001b[0;34m(\u001b[0m\u001b[0;34m'dos.png'\u001b[0m\u001b[0;34m)\u001b[0m\u001b[0;34m\u001b[0m\u001b[0;34m\u001b[0m\u001b[0m\n\u001b[1;32m      9\u001b[0m \u001b[0mimg3\u001b[0m \u001b[0;34m=\u001b[0m \u001b[0mcv2\u001b[0m\u001b[0;34m.\u001b[0m\u001b[0mimread\u001b[0m\u001b[0;34m(\u001b[0m\u001b[0;34m'tres.png'\u001b[0m\u001b[0;34m)\u001b[0m\u001b[0;34m\u001b[0m\u001b[0;34m\u001b[0m\u001b[0m\n\u001b[0;32m---> 10\u001b[0;31m \u001b[0mcv2_imshow\u001b[0m\u001b[0;34m(\u001b[0m\u001b[0mimg1\u001b[0m\u001b[0;34m)\u001b[0m\u001b[0;34m\u001b[0m\u001b[0;34m\u001b[0m\u001b[0m\n\u001b[0m\u001b[1;32m     11\u001b[0m \u001b[0mimgGray\u001b[0m \u001b[0;34m=\u001b[0m \u001b[0mcv2\u001b[0m\u001b[0;34m.\u001b[0m\u001b[0mcvtColor\u001b[0m\u001b[0;34m(\u001b[0m\u001b[0mimg1\u001b[0m\u001b[0;34m,\u001b[0m \u001b[0mcv2\u001b[0m\u001b[0;34m.\u001b[0m\u001b[0mCOLOR_BGR2GRAY\u001b[0m\u001b[0;34m)\u001b[0m\u001b[0;34m\u001b[0m\u001b[0;34m\u001b[0m\u001b[0m\n\u001b[1;32m     12\u001b[0m \u001b[0medges\u001b[0m \u001b[0;34m=\u001b[0m \u001b[0mcv2\u001b[0m\u001b[0;34m.\u001b[0m\u001b[0mCanny\u001b[0m\u001b[0;34m(\u001b[0m\u001b[0mimgGray\u001b[0m\u001b[0;34m,\u001b[0m \u001b[0;36m30\u001b[0m\u001b[0;34m,\u001b[0m \u001b[0;36m40\u001b[0m\u001b[0;34m,\u001b[0m \u001b[0mapertureSize\u001b[0m\u001b[0;34m=\u001b[0m\u001b[0;36m3\u001b[0m\u001b[0;34m)\u001b[0m\u001b[0;34m\u001b[0m\u001b[0;34m\u001b[0m\u001b[0m\n",
            "\u001b[0;32m/usr/local/lib/python3.10/dist-packages/google/colab/patches/__init__.py\u001b[0m in \u001b[0;36mcv2_imshow\u001b[0;34m(a)\u001b[0m\n\u001b[1;32m     16\u001b[0m       \u001b[0;34m(\u001b[0m\u001b[0mN\u001b[0m\u001b[0;34m,\u001b[0m \u001b[0mM\u001b[0m\u001b[0;34m,\u001b[0m \u001b[0;36m4\u001b[0m\u001b[0;34m)\u001b[0m \u001b[0;32mis\u001b[0m \u001b[0man\u001b[0m \u001b[0mNxM\u001b[0m \u001b[0mBGRA\u001b[0m \u001b[0mcolor\u001b[0m \u001b[0mimage\u001b[0m\u001b[0;34m.\u001b[0m\u001b[0;34m\u001b[0m\u001b[0;34m\u001b[0m\u001b[0m\n\u001b[1;32m     17\u001b[0m   \"\"\"\n\u001b[0;32m---> 18\u001b[0;31m   \u001b[0ma\u001b[0m \u001b[0;34m=\u001b[0m \u001b[0ma\u001b[0m\u001b[0;34m.\u001b[0m\u001b[0mclip\u001b[0m\u001b[0;34m(\u001b[0m\u001b[0;36m0\u001b[0m\u001b[0;34m,\u001b[0m \u001b[0;36m255\u001b[0m\u001b[0;34m)\u001b[0m\u001b[0;34m.\u001b[0m\u001b[0mastype\u001b[0m\u001b[0;34m(\u001b[0m\u001b[0;34m'uint8'\u001b[0m\u001b[0;34m)\u001b[0m\u001b[0;34m\u001b[0m\u001b[0;34m\u001b[0m\u001b[0m\n\u001b[0m\u001b[1;32m     19\u001b[0m   \u001b[0;31m# cv2 stores colors as BGR; convert to RGB\u001b[0m\u001b[0;34m\u001b[0m\u001b[0;34m\u001b[0m\u001b[0m\n\u001b[1;32m     20\u001b[0m   \u001b[0;32mif\u001b[0m \u001b[0ma\u001b[0m\u001b[0;34m.\u001b[0m\u001b[0mndim\u001b[0m \u001b[0;34m==\u001b[0m \u001b[0;36m3\u001b[0m\u001b[0;34m:\u001b[0m\u001b[0;34m\u001b[0m\u001b[0;34m\u001b[0m\u001b[0m\n",
            "\u001b[0;31mAttributeError\u001b[0m: 'NoneType' object has no attribute 'clip'"
          ]
        }
      ],
      "source": [
        "\n",
        "from cv2.gapi import threshold\n",
        "import cv2\n",
        "import math\n",
        "import numpy as np\n",
        "from google.colab.patches import cv2_imshow\n",
        "\n",
        "img1 = cv2.imread('uno.png')\n",
        "img2 = cv2.imread('dos.png')\n",
        "img3 = cv2.imread('tres.png')\n",
        "cv2_imshow(img1)\n",
        "imgGray = cv2.cvtColor(img1, cv2.COLOR_BGR2GRAY)\n",
        "edges = cv2.Canny(imgGray, 30, 40, apertureSize=3)\n",
        "\n",
        "_, threshold = cv2.threshold(imgGray, 140, 255, cv2.THRESH_BINARY)\n",
        "contours, _= cv2.findContours( threshold, cv2.RETR_TREE, cv2.CHAIN_APPROX_SIMPLE)\n",
        "\n",
        "i = 0\n",
        "for contour in contours:\n",
        "  if i == 0:\n",
        "    i = 1\n",
        "    continue\n",
        "  approx = cv2.approxPolyDP( contour, 0.01 * cv2.arcLength(contour, True), True)\n",
        "  cv2.drawContours(img, [contour], 0, (0, 255, 0), 5)\n",
        "  M = cv2.moments(contour)\n",
        "  if M['m00'] != 0.0:\n",
        "    x = int(M['m10']/M['m00'])\n",
        "    y = int(M['m01']/M['m00'])\n",
        "    if len(approx) == 3:\n",
        "\n",
        "      point1 = approx[0][0]\n",
        "      point2 = approx[1][0]\n",
        "      point3 = approx[2][0]\n",
        "\n",
        "      vector1 = [point2[0] - point1[0], point2[1] - point1[1]]\n",
        "      vector2 = [point3[0] - point2[0], point3[1] - point2[1]]\n",
        "      vector3 = [point1[0] - point3[0], point1[1] - point3[1]]\n",
        "\n",
        "      lado1 = math.sqrt(vector1[0] ** 2 + vector1[1] ** 2)\n",
        "      lado2 = math.sqrt(vector2[0] ** 2 + vector2[1] ** 2)\n",
        "      lado3 = math.sqrt(vector3[0] ** 2 + vector3[1] ** 2)\n",
        "\n",
        "      angulo1 = round(math.degrees(math.acos((lado1 ** 2 + lado2 ** 2 - lado3 ** 2) / (2 * lado1 * lado2))))\n",
        "      angulo2 = round(math.degrees(math.acos((lado2 ** 2 + lado3 ** 2 - lado1 ** 2) / (2 * lado2 * lado3))))\n",
        "      angulo3 = round(math.degrees(math.acos((lado3 ** 2 + lado1 ** 2 - lado2 ** 2) / (2 * lado3 * lado1))))\n",
        "\n",
        "      print(\"Ángulo 1:\", angulo1)\n",
        "      print(\"Ángulo 2:\", angulo2)\n",
        "      print(\"Ángulo 3:\", angulo3)\n",
        "\n",
        "\n",
        "      cv2.putText(img1, 'Triangulo', (x-50,y), cv2.FONT_HERSHEY_SIMPLEX, 0.6, (255, 255, 255), 2)\n",
        "      if (angulo1 == angulo2) & (angulo2 == angulo3) & (angulo3 == angulo1):\n",
        "        cv2.putText(img1, 'Equilatero', (x-50,y+30), cv2.FONT_HERSHEY_SIMPLEX, 0.6, (255, 255, 255), 2)\n",
        "      else:\n",
        "        if (angulo1 == angulo2) | (angulo2 == angulo3) | (angulo3 == angulo1):\n",
        "          cv2.putText(img2, 'Isosceles', (x-50,y+30), cv2.FONT_HERSHEY_SIMPLEX, 0.6, (255, 255, 255), 2)\n",
        "        else:\n",
        "          cv2.putText(img3, 'Escaleno', (x-50,y+30), cv2.FONT_HERSHEY_SIMPLEX, 0.6, (255, 255, 255), 2)\n",
        "cv2_imshow(img1)"
      ]
    }
  ]
}