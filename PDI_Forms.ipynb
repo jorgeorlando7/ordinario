{
  "nbformat": 4,
  "nbformat_minor": 0,
  "metadata": {
    "colab": {
      "provenance": [],
      "authorship_tag": "ABX9TyMifQs/rE8q1HzJICQ4CIVd",
      "include_colab_link": true
    },
    "kernelspec": {
      "name": "python3",
      "display_name": "Python 3"
    },
    "language_info": {
      "name": "python"
    }
  },
  "cells": [
    {
      "cell_type": "markdown",
      "metadata": {
        "id": "view-in-github",
        "colab_type": "text"
      },
      "source": [
        "<a href=\"https://colab.research.google.com/github/jorgeorlando7/ordinario/blob/master/PDI_Forms.ipynb\" target=\"_parent\"><img src=\"https://colab.research.google.com/assets/colab-badge.svg\" alt=\"Open In Colab\"/></a>"
      ]
    },
    {
      "cell_type": "code",
      "execution_count": 1,
      "metadata": {
        "colab": {
          "base_uri": "https://localhost:8080/",
          "height": 561
        },
        "id": "3s9QlyY1YM-0",
        "outputId": "b5ceb830-652a-4ba1-bc1c-df128bf01e72"
      },
      "outputs": [
        {
          "output_type": "error",
          "ename": "error",
          "evalue": "ignored",
          "traceback": [
            "\u001b[0;31m---------------------------------------------------------------------------\u001b[0m",
            "\u001b[0;31merror\u001b[0m                                     Traceback (most recent call last)",
            "\u001b[0;32m<ipython-input-1-9dbc9f4eb4df>\u001b[0m in \u001b[0;36m<cell line: 11>\u001b[0;34m()\u001b[0m\n\u001b[1;32m      9\u001b[0m \u001b[0;31m#img = cv2.imread('otro_3.png')\u001b[0m\u001b[0;34m\u001b[0m\u001b[0;34m\u001b[0m\u001b[0m\n\u001b[1;32m     10\u001b[0m \u001b[0;31m#cv2_imshow(img)\u001b[0m\u001b[0;34m\u001b[0m\u001b[0;34m\u001b[0m\u001b[0m\n\u001b[0;32m---> 11\u001b[0;31m \u001b[0mimgGray\u001b[0m \u001b[0;34m=\u001b[0m \u001b[0mcv2\u001b[0m\u001b[0;34m.\u001b[0m\u001b[0mcvtColor\u001b[0m\u001b[0;34m(\u001b[0m\u001b[0mimg\u001b[0m\u001b[0;34m,\u001b[0m \u001b[0mcv2\u001b[0m\u001b[0;34m.\u001b[0m\u001b[0mCOLOR_BGR2GRAY\u001b[0m\u001b[0;34m)\u001b[0m\u001b[0;34m\u001b[0m\u001b[0;34m\u001b[0m\u001b[0m\n\u001b[0m\u001b[1;32m     12\u001b[0m \u001b[0medges\u001b[0m \u001b[0;34m=\u001b[0m \u001b[0mcv2\u001b[0m\u001b[0;34m.\u001b[0m\u001b[0mCanny\u001b[0m\u001b[0;34m(\u001b[0m\u001b[0mimgGray\u001b[0m\u001b[0;34m,\u001b[0m \u001b[0;36m30\u001b[0m\u001b[0;34m,\u001b[0m \u001b[0;36m40\u001b[0m\u001b[0;34m,\u001b[0m \u001b[0mapertureSize\u001b[0m\u001b[0;34m=\u001b[0m\u001b[0;36m3\u001b[0m\u001b[0;34m)\u001b[0m\u001b[0;34m\u001b[0m\u001b[0;34m\u001b[0m\u001b[0m\n\u001b[1;32m     13\u001b[0m \u001b[0;34m\u001b[0m\u001b[0m\n",
            "\u001b[0;31merror\u001b[0m: OpenCV(4.8.0) /io/opencv/modules/imgproc/src/color.cpp:182: error: (-215:Assertion failed) !_src.empty() in function 'cvtColor'\n"
          ]
        }
      ],
      "source": [
        "\n",
        "from cv2.gapi import threshold\n",
        "import cv2\n",
        "import math\n",
        "import numpy as np\n",
        "from google.colab.patches import cv2_imshow\n",
        "\n",
        "img = cv2.imread('otro.png')\n",
        "#img = cv2.imread('otro_2.png')\n",
        "#img = cv2.imread('otro_3.png')\n",
        "#cv2_imshow(img)\n",
        "imgGray = cv2.cvtColor(img, cv2.COLOR_BGR2GRAY)\n",
        "edges = cv2.Canny(imgGray, 30, 40, apertureSize=3)\n",
        "\n",
        "_, threshold = cv2.threshold(imgGray, 140, 255, cv2.THRESH_BINARY)\n",
        "contours, _= cv2.findContours( threshold, cv2.RETR_TREE, cv2.CHAIN_APPROX_SIMPLE)\n",
        "#cv2_imshow(threshold)\n",
        "####################################################################################################\n",
        "i = 0\n",
        "for contour in contours:\n",
        "  if i == 0:\n",
        "    i = 1\n",
        "    continue\n",
        "  approx = cv2.approxPolyDP( contour, 0.01 * cv2.arcLength(contour, True), True)\n",
        "  cv2.drawContours(img, [contour], 0, (0, 255, 0), 5)\n",
        "  M = cv2.moments(contour)\n",
        "  if M['m00'] != 0.0:\n",
        "    x = int(M['m10']/M['m00'])\n",
        "    y = int(M['m01']/M['m00'])\n",
        "    if len(approx) == 3:\n",
        "\n",
        "      ####################################################################################\n",
        "      ###################################################################################\n",
        "      point1 = approx[0][0]\n",
        "      point2 = approx[1][0]\n",
        "      point3 = approx[2][0]\n",
        "\n",
        "      vector1 = [point2[0] - point1[0], point2[1] - point1[1]]\n",
        "      vector2 = [point3[0] - point2[0], point3[1] - point2[1]]\n",
        "      vector3 = [point1[0] - point3[0], point1[1] - point3[1]]\n",
        "\n",
        "      lado1 = math.sqrt(vector1[0] ** 2 + vector1[1] ** 2)\n",
        "      lado2 = math.sqrt(vector2[0] ** 2 + vector2[1] ** 2)\n",
        "      lado3 = math.sqrt(vector3[0] ** 2 + vector3[1] ** 2)\n",
        "\n",
        "      angulo1 = round(math.degrees(math.acos((lado1 ** 2 + lado2 ** 2 - lado3 ** 2) / (2 * lado1 * lado2))))\n",
        "      angulo2 = round(math.degrees(math.acos((lado2 ** 2 + lado3 ** 2 - lado1 ** 2) / (2 * lado2 * lado3))))\n",
        "      angulo3 = round(math.degrees(math.acos((lado3 ** 2 + lado1 ** 2 - lado2 ** 2) / (2 * lado3 * lado1))))\n",
        "\n",
        "      print(\"Ángulo 1:\", angulo1)\n",
        "      print(\"Ángulo 2:\", angulo2)\n",
        "      print(\"Ángulo 3:\", angulo3)\n",
        "      ###########################################################################################3\n",
        "      ############################################################################################\n",
        "\n",
        "      cv2.putText(img, 'Triangulo', (x-50,y), cv2.FONT_HERSHEY_SIMPLEX, 0.6, (255, 255, 255), 2)\n",
        "      if (angulo1 == angulo2) & (angulo2 == angulo3) & (angulo3 == angulo1):\n",
        "        cv2.putText(img, 'Equilatero', (x-50,y+30), cv2.FONT_HERSHEY_SIMPLEX, 0.6, (255, 255, 255), 2)\n",
        "      else:\n",
        "        if (angulo1 == angulo2) | (angulo2 == angulo3) | (angulo3 == angulo1):\n",
        "          cv2.putText(img, 'Isosceles', (x-50,y+30), cv2.FONT_HERSHEY_SIMPLEX, 0.6, (255, 255, 255), 2)\n",
        "        else:\n",
        "          cv2.putText(img, 'Escaleno', (x-50,y+30), cv2.FONT_HERSHEY_SIMPLEX, 0.6, (255, 255, 255), 2)\n",
        "cv2_imshow(img)"
      ]
    }
  ]
}